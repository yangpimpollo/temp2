{
 "cells": [
  {
   "cell_type": "markdown",
   "id": "eaab46de",
   "metadata": {},
   "source": [
    "#### Recordando cosas Basicas!\n",
    "- comentarios-lineal( #@@@ ) y multilineal( \"\"\" @@@ \"\"\" )\n",
    "- indentado\n",
    "- tipo de variables\n",
    "- print()\n"
   ]
  },
  {
   "cell_type": "code",
   "execution_count": 1,
   "id": "7ea748b1",
   "metadata": {},
   "outputs": [
    {
     "name": "stdout",
     "output_type": "stream",
     "text": [
      "Hello, World!\n"
     ]
    }
   ],
   "source": [
    "#This is a comment.\n",
    "print(\"Hello, World!\")"
   ]
  },
  {
   "cell_type": "code",
   "execution_count": 3,
   "id": "3688a044",
   "metadata": {},
   "outputs": [
    {
     "name": "stdout",
     "output_type": "stream",
     "text": [
      "Five is greater than two!\n",
      "Five is greater than two!\n"
     ]
    }
   ],
   "source": [
    "\"\"\"\n",
    "This is a comment\n",
    "written in more than just one line\n",
    "\"\"\"\n",
    "\n",
    "if 5 > 2:\n",
    " print(\"Five is greater than two!\") \n",
    "if 5 > 2:\n",
    "        print(\"Five is greater than two!\") "
   ]
  },
  {
   "cell_type": "code",
   "execution_count": 4,
   "id": "f1171aac",
   "metadata": {},
   "outputs": [
    {
     "name": "stdout",
     "output_type": "stream",
     "text": [
      "<class 'int'>\n",
      "<class 'str'>\n"
     ]
    }
   ],
   "source": [
    "x = 5\n",
    "y = \"John\"\n",
    "print(type(x))\n",
    "print(type(y))"
   ]
  },
  {
   "cell_type": "code",
   "execution_count": 5,
   "id": "620a7784",
   "metadata": {},
   "outputs": [
    {
     "name": "stdout",
     "output_type": "stream",
     "text": [
      "Orange\n",
      "Banana\n",
      "Cherry\n"
     ]
    }
   ],
   "source": [
    "x, y, z = \"Orange\", \"Banana\", \"Cherry\"\n",
    "print(x)\n",
    "print(y)\n",
    "print(z)"
   ]
  },
  {
   "cell_type": "code",
   "execution_count": 6,
   "id": "5eba8ce9",
   "metadata": {},
   "outputs": [
    {
     "name": "stdout",
     "output_type": "stream",
     "text": [
      "Orange\n",
      "Orange\n",
      "Orange\n"
     ]
    }
   ],
   "source": [
    "x = y = z = \"Orange\"\n",
    "print(x)\n",
    "print(y)\n",
    "print(z)"
   ]
  },
  {
   "cell_type": "code",
   "execution_count": 7,
   "id": "f2824d44",
   "metadata": {},
   "outputs": [
    {
     "name": "stdout",
     "output_type": "stream",
     "text": [
      "apple\n",
      "banana\n",
      "cherry\n"
     ]
    }
   ],
   "source": [
    "fruits = [\"apple\", \"banana\", \"cherry\"]\n",
    "x, y, z = fruits\n",
    "print(x)\n",
    "print(y)\n",
    "print(z)"
   ]
  },
  {
   "cell_type": "code",
   "execution_count": 9,
   "id": "2bc2e370",
   "metadata": {},
   "outputs": [
    {
     "name": "stdout",
     "output_type": "stream",
     "text": [
      "Python is awesome\n",
      "Pythonisawesome\n"
     ]
    }
   ],
   "source": [
    "x = \"Python\"\n",
    "y = \"is\"\n",
    "z = \"awesome\"\n",
    "print(x, y, z)\n",
    "print(x + y + z)"
   ]
  },
  {
   "cell_type": "markdown",
   "id": "57d30c7d",
   "metadata": {},
   "source": [
    "# Tipos de Datos\n",
    "- Tipo de texto:\t**str**\n",
    "- Tipos numéricos:\t**int**, **float**, **complex**\n",
    "- Tipos de secuencia:\t**list**, **tuple**, **range**\n",
    "- Tipo de mapeo:\t**dict**\n",
    "- Tipos de conjuntos:\t**set**,**frozenset**\n",
    "- Tipo booleano:\t**bool**\n",
    "- Tipos binarios:\t**bytes**, **bytearray**, **memoryview**\n",
    "- Ninguno Tipo:\t**NoneType**\n",
    "\n",
    "> Puedes convertir de un tipo a otro con los métodos int(), float()y :complex()"
   ]
  },
  {
   "cell_type": "code",
   "execution_count": 11,
   "id": "a7d7ba70",
   "metadata": {},
   "outputs": [],
   "source": [
    "x = \"Hello World\"                              #str\n",
    "x = 20                                         #int\n",
    "x = 20.5                                       #float\n",
    "x = 1j                                         #complex\n",
    "x = [\"apple\", \"banana\", \"cherry\"]              #list\n",
    "x = (\"apple\", \"banana\", \"cherry\")              #tuple\n",
    "x = range(6)                                   #range\n",
    "x = {\"name\" : \"John\", \"age\" : 36}              #dict\n",
    "x = {\"apple\", \"banana\", \"cherry\"}              #set\n",
    "x = frozenset({\"apple\", \"banana\", \"cherry\"})   #frozenset\n",
    "x = True                                       #bool\n",
    "x = b\"Hello\"                                   #bytes\n",
    "x = bytearray(5)                               #bytearray\n",
    "x = memoryview(bytes(5))                       #memoryview\n",
    "x = None"
   ]
  },
  {
   "cell_type": "code",
   "execution_count": 12,
   "id": "a0d56967",
   "metadata": {},
   "outputs": [
    {
     "name": "stdout",
     "output_type": "stream",
     "text": [
      "<class 'int'>\n",
      "<class 'float'>\n",
      "<class 'complex'>\n"
     ]
    }
   ],
   "source": [
    "x = 1    # int\n",
    "y = 2.8  # float\n",
    "z = 1j   # complex\n",
    "\n",
    "print(type(x))\n",
    "print(type(y))\n",
    "print(type(z))"
   ]
  },
  {
   "cell_type": "code",
   "execution_count": 13,
   "id": "1c75f8a5",
   "metadata": {},
   "outputs": [
    {
     "name": "stdout",
     "output_type": "stream",
     "text": [
      "<class 'int'>\n",
      "<class 'int'>\n",
      "<class 'int'>\n"
     ]
    }
   ],
   "source": [
    "x = 1\n",
    "y = 35656222554887711\n",
    "z = -3255522\n",
    "\n",
    "print(type(x))\n",
    "print(type(y))\n",
    "print(type(z))"
   ]
  },
  {
   "cell_type": "code",
   "execution_count": 14,
   "id": "2efd56da",
   "metadata": {},
   "outputs": [
    {
     "name": "stdout",
     "output_type": "stream",
     "text": [
      "<class 'float'>\n",
      "<class 'float'>\n",
      "<class 'float'>\n"
     ]
    }
   ],
   "source": [
    "x = 1.10\n",
    "y = 1.0\n",
    "z = -35.59\n",
    "\n",
    "print(type(x))\n",
    "print(type(y))\n",
    "print(type(z))"
   ]
  },
  {
   "cell_type": "code",
   "execution_count": 15,
   "id": "f097e145",
   "metadata": {},
   "outputs": [
    {
     "name": "stdout",
     "output_type": "stream",
     "text": [
      "<class 'complex'>\n",
      "<class 'complex'>\n",
      "<class 'complex'>\n"
     ]
    }
   ],
   "source": [
    "x = 3+5j\n",
    "y = 5j\n",
    "z = -5j\n",
    "\n",
    "print(type(x))\n",
    "print(type(y))\n",
    "print(type(z))"
   ]
  },
  {
   "cell_type": "markdown",
   "id": "e9ca84ec",
   "metadata": {},
   "source": [
    "# Cadenas\n",
    "### visitar Python Reference"
   ]
  },
  {
   "cell_type": "code",
   "execution_count": 17,
   "id": "55646b1f",
   "metadata": {},
   "outputs": [
    {
     "name": "stdout",
     "output_type": "stream",
     "text": [
      "habia una vez\n",
      "          caperusa roja\n"
     ]
    }
   ],
   "source": [
    "text = \"\"\"habia una vez\n",
    "          caperusa roja\"\"\"\n",
    "print(text)"
   ]
  },
  {
   "cell_type": "code",
   "execution_count": 21,
   "id": "fcf7f783",
   "metadata": {},
   "outputs": [
    {
     "name": "stdout",
     "output_type": "stream",
     "text": [
      "n\n",
      "37\n"
     ]
    }
   ],
   "source": [
    "print(text[7])\n",
    "print(len(text))"
   ]
  },
  {
   "cell_type": "code",
   "execution_count": 20,
   "id": "a3812d3f",
   "metadata": {},
   "outputs": [
    {
     "name": "stdout",
     "output_type": "stream",
     "text": [
      "b\n",
      "a\n",
      "n\n",
      "a\n",
      "n\n",
      "a\n"
     ]
    }
   ],
   "source": [
    "for x in \"banana\":\n",
    "  print(x)"
   ]
  },
  {
   "cell_type": "code",
   "execution_count": 22,
   "id": "558198a2",
   "metadata": {},
   "outputs": [
    {
     "name": "stdout",
     "output_type": "stream",
     "text": [
      "True\n"
     ]
    }
   ],
   "source": [
    "txt = \"The best things in life are free!\"\n",
    "print(\"free\" in txt)"
   ]
  },
  {
   "cell_type": "code",
   "execution_count": 23,
   "id": "fabd93e9",
   "metadata": {},
   "outputs": [
    {
     "name": "stdout",
     "output_type": "stream",
     "text": [
      "True\n"
     ]
    }
   ],
   "source": [
    "txt = \"The best things in life are free!\"\n",
    "print(\"expensive\" not in txt)"
   ]
  },
  {
   "cell_type": "markdown",
   "id": "afda8add",
   "metadata": {},
   "source": [
    "## Cortar Cadenas"
   ]
  },
  {
   "cell_type": "code",
   "execution_count": 25,
   "id": "c9ad779f",
   "metadata": {},
   "outputs": [
    {
     "name": "stdout",
     "output_type": "stream",
     "text": [
      "llo\n",
      "Hello\n",
      "llo, World!\n",
      "orl\n",
      "\n"
     ]
    }
   ],
   "source": [
    "b = \"Hello, World!\"\n",
    "print(b[2:5])     # solo 2,3,4 no el 5\n",
    "print(b[:5])\n",
    "print(b[2:])\n",
    "print(b[-5:-2])     # Utilice índices negativos para comenzar el segmento desde el final de la cadena:   \n",
    "print(b[-2:-5]) "
   ]
  },
  {
   "cell_type": "code",
   "execution_count": 33,
   "id": "ca6686f3",
   "metadata": {},
   "outputs": [
    {
     "name": "stdout",
     "output_type": "stream",
     "text": [
      "  HELLO, WORLD!   \n",
      "  hello, world!   \n",
      "Hello, World!\n",
      "  Jello, World!   \n",
      "['  Hello', ' World!   ']\n"
     ]
    }
   ],
   "source": [
    "a = \"  Hello, World!   \"\n",
    "print(a.upper())\n",
    "print(a.lower())\n",
    "print(a.strip())   # elimina cualquier espacio en blanco desde el principio o el final:\n",
    "print(a.replace(\"H\", \"J\"))\n",
    "print(a.split(\",\")) # returns ['Hello', ' World!']"
   ]
  },
  {
   "cell_type": "code",
   "execution_count": 34,
   "id": "4e8811ae",
   "metadata": {},
   "outputs": [
    {
     "name": "stdout",
     "output_type": "stream",
     "text": [
      "HelloWorld World\n"
     ]
    }
   ],
   "source": [
    "# concatenar\n",
    "a = \"Hello\"\n",
    "b = \"World\"\n",
    "c = a + b\n",
    "print(c+\" \" + b)"
   ]
  },
  {
   "cell_type": "code",
   "execution_count": null,
   "id": "8d7a9eed",
   "metadata": {},
   "outputs": [],
   "source": []
  }
 ],
 "metadata": {
  "kernelspec": {
   "display_name": "Python 3 (ipykernel)",
   "language": "python",
   "name": "python3"
  },
  "language_info": {
   "codemirror_mode": {
    "name": "ipython",
    "version": 3
   },
   "file_extension": ".py",
   "mimetype": "text/x-python",
   "name": "python",
   "nbconvert_exporter": "python",
   "pygments_lexer": "ipython3",
   "version": "3.11.3"
  }
 },
 "nbformat": 4,
 "nbformat_minor": 5
}
