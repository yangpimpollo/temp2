{
  "nbformat": 4,
  "nbformat_minor": 0,
  "metadata": {
    "colab": {
      "provenance": [],
      "authorship_tag": "ABX9TyMWeAQPOt0NaaGhbjB0iEkF",
      "include_colab_link": true
    },
    "kernelspec": {
      "name": "python3",
      "display_name": "Python 3"
    },
    "language_info": {
      "name": "python"
    }
  },
  "cells": [
    {
      "cell_type": "markdown",
      "metadata": {
        "id": "view-in-github",
        "colab_type": "text"
      },
      "source": [
        "<a href=\"https://colab.research.google.com/github/yangpimpollo/temp2/blob/main/stocastic.ipynb\" target=\"_parent\"><img src=\"https://colab.research.google.com/assets/colab-badge.svg\" alt=\"Open In Colab\"/></a>"
      ]
    },
    {
      "cell_type": "code",
      "execution_count": null,
      "metadata": {
        "id": "KOOfHXz2Djoi"
      },
      "outputs": [],
      "source": [
        "import numpy as np\n",
        "\n",
        "# Definir la matriz de transición\n",
        "A = np.array([[0.2, 0.8], [0.5, 0.5]])\n",
        "\n",
        "# Calcular las probabilidades límite\n",
        "def calcular_probabilidades_limite(A):\n",
        "    while True:\n",
        "        A_anterior = A\n",
        "        A = np.dot(A, A)\n",
        "        if np.allclose(A, A_anterior):\n",
        "            break\n",
        "    return A"
      ]
    },
    {
      "cell_type": "code",
      "source": [
        "import numpy as np\n",
        "A = np.array([[0.35, 0.60, 0.05], [0.30, 0.60, 0.10], [0.25, 0.40, 0.35]])\n",
        "\n",
        "def multiplicar_matrices(A, n):\n",
        "  for i in range(1, n):\n",
        "    A = np.dot(A, A)\n",
        "  return A\n",
        "\n",
        "#A\n",
        "probabilidades_limite = multiplicar_matrices(A, 40)\n",
        "probabilidades_limite[0,:]"
      ],
      "metadata": {
        "colab": {
          "base_uri": "https://localhost:8080/"
        },
        "id": "W4PYU8I4DrH5",
        "outputId": "18318afb-b884-465c-f43b-856871898b3f"
      },
      "execution_count": null,
      "outputs": [
        {
          "output_type": "execute_result",
          "data": {
            "text/plain": [
              "array([0.30985662, 0.57746007, 0.11267514])"
            ]
          },
          "metadata": {},
          "execution_count": 3
        }
      ]
    },
    {
      "cell_type": "code",
      "source": [
        "import numpy as np\n",
        "\n",
        "arr = np.array([[0.2, -0.05], [-0.1, 0.2]])\n",
        "print(arr)\n",
        "\n",
        "arr_inv = np.linalg.inv(arr)\n",
        "\n",
        "print(arr_inv)"
      ],
      "metadata": {
        "colab": {
          "base_uri": "https://localhost:8080/"
        },
        "id": "HeOXKtGFxcjX",
        "outputId": "46f985e5-7c13-489d-8f83-ae5b244bfbd2"
      },
      "execution_count": null,
      "outputs": [
        {
          "output_type": "stream",
          "name": "stdout",
          "text": [
            "[[ 0.2  -0.05]\n",
            " [-0.1   0.2 ]]\n",
            "[[5.71428571 1.42857143]\n",
            " [2.85714286 5.71428571]]\n"
          ]
        }
      ]
    },
    {
      "cell_type": "code",
      "source": [
        "5.71428571 + 1.42857143"
      ],
      "metadata": {
        "colab": {
          "base_uri": "https://localhost:8080/"
        },
        "id": "bwB1Lqmux2PH",
        "outputId": "61bc44ea-7203-4b77-d15a-1c8206bd6370"
      },
      "execution_count": null,
      "outputs": [
        {
          "output_type": "execute_result",
          "data": {
            "text/plain": [
              "7.14285714"
            ]
          },
          "metadata": {},
          "execution_count": 5
        }
      ]
    },
    {
      "cell_type": "code",
      "source": [
        "arr1 = np.array([[1, 1], [4, 2]])\n",
        "arr2 = np.array([[2, 3], [-5, 12]])\n",
        "print(arr1)\n",
        "print(arr2)\n",
        "arr3 = arr1 + arr2\n",
        "print(arr3)"
      ],
      "metadata": {
        "colab": {
          "base_uri": "https://localhost:8080/"
        },
        "id": "fhRO1IbBy9Je",
        "outputId": "cea96d76-69e7-45f3-8afc-66da175db328"
      },
      "execution_count": null,
      "outputs": [
        {
          "output_type": "stream",
          "name": "stdout",
          "text": [
            "[[1 1]\n",
            " [4 2]]\n",
            "[[ 2  3]\n",
            " [-5 12]]\n",
            "[[ 3  4]\n",
            " [-1 14]]\n"
          ]
        }
      ]
    },
    {
      "cell_type": "code",
      "source": [
        "N1 = np.array([[0, 0.4, 0], [0, 0, 0.3], [0, 0, 0]])\n",
        "I = np.identity(3)\n",
        "i2 = np.ones((3, 1))       #np.array([[1], [1], [1]])\n",
        "\n",
        "R = np.linalg.inv(I - N1)\n",
        "\n",
        "print(np.dot(R,i2))"
      ],
      "metadata": {
        "colab": {
          "base_uri": "https://localhost:8080/"
        },
        "id": "dHM-7j3FzWYQ",
        "outputId": "f46d2c0b-07c4-475d-ea28-7251c1f2be4b"
      },
      "execution_count": null,
      "outputs": [
        {
          "output_type": "stream",
          "name": "stdout",
          "text": [
            "[[1.52]\n",
            " [1.3 ]\n",
            " [1.  ]]\n"
          ]
        }
      ]
    },
    {
      "cell_type": "code",
      "source": [
        "A = np.array([[0.35, 0.60, 0.05], [0.30, 0.60, 0.10], [0.25, 0.40, 0.35]])\n",
        "\n",
        "result = np.linalg.matrix_power(A, 40)\n",
        "\n",
        "result"
      ],
      "metadata": {
        "colab": {
          "base_uri": "https://localhost:8080/"
        },
        "id": "SVRVvhL91PZx",
        "outputId": "3c3585e6-82a5-4c3e-8aa3-9417d3f363bd"
      },
      "execution_count": null,
      "outputs": [
        {
          "output_type": "execute_result",
          "data": {
            "text/plain": [
              "array([[0.30985915, 0.57746479, 0.11267606],\n",
              "       [0.30985915, 0.57746479, 0.11267606],\n",
              "       [0.30985915, 0.57746479, 0.11267606]])"
            ]
          },
          "metadata": {},
          "execution_count": 12
        }
      ]
    },
    {
      "cell_type": "code",
      "source": [
        "A = np.array([[0.35, 0.60, 0.05], [0.30, 0.60, 0.10], [0.25, 0.40, 0.35]])\n",
        "\n",
        "result = A**20\n",
        "\n",
        "result\n",
        "#print(result)"
      ],
      "metadata": {
        "colab": {
          "base_uri": "https://localhost:8080/"
        },
        "id": "Ic6h3I_r1c3h",
        "outputId": "87d66302-5206-432a-ab6a-dc661443e948"
      },
      "execution_count": null,
      "outputs": [
        {
          "output_type": "execute_result",
          "data": {
            "text/plain": [
              "array([[7.60958350e-10, 3.65615844e-05, 9.53674316e-27],\n",
              "       [3.48678440e-11, 3.65615844e-05, 1.00000000e-20],\n",
              "       [9.09494702e-13, 1.09951163e-08, 7.60958350e-10]])"
            ]
          },
          "metadata": {},
          "execution_count": 15
        }
      ]
    },
    {
      "cell_type": "code",
      "source": [
        "\n",
        "A = np.array([[.8, .2, .0], [.3, .5, .2], [.1, .1, .8]])\n",
        "\n",
        "result = np.linalg.matrix_power(A, 100)\n",
        "\n",
        "result"
      ],
      "metadata": {
        "colab": {
          "base_uri": "https://localhost:8080/"
        },
        "id": "zxx8ll1A5zpR",
        "outputId": "07e201e0-c8e5-41c9-981c-b1040c9257c0"
      },
      "execution_count": null,
      "outputs": [
        {
          "output_type": "execute_result",
          "data": {
            "text/plain": [
              "array([[0.5 , 0.25, 0.25],\n",
              "       [0.5 , 0.25, 0.25],\n",
              "       [0.5 , 0.25, 0.25]])"
            ]
          },
          "metadata": {},
          "execution_count": 18
        }
      ]
    },
    {
      "cell_type": "code",
      "execution_count": null,
      "metadata": {
        "colab": {
          "base_uri": "https://localhost:8080/"
        },
        "id": "MJuJIXFymmdV",
        "outputId": "0aebbbbc-0d4f-4576-db4b-3b715f733fcc"
      },
      "outputs": [
        {
          "output_type": "stream",
          "name": "stdout",
          "text": [
            "[[0.7 0.1 0.1 0.1]\n",
            " [0.1 0.7 0.1 0.1]\n",
            " [0.1 0.1 0.7 0.1]\n",
            " [0.1 0.1 0.1 0.7]]\n",
            "[[0.25 0.25 0.25 0.25]\n",
            " [0.25 0.25 0.25 0.25]\n",
            " [0.25 0.25 0.25 0.25]\n",
            " [0.25 0.25 0.25 0.25]]\n"
          ]
        }
      ],
      "source": [
        "import numpy as np\n",
        "\n",
        "A = np.array([[.7, .1, .1, .1], [.1, .7, .1, .1], [.1, .1, .7, .1], [.1, .1, .1, .7]])\n",
        "\n",
        "result = np.linalg.matrix_power(A, 100)\n",
        "\n",
        "print(A)\n",
        "print(result)"
      ]
    }
  ]
}