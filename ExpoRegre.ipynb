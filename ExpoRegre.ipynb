{
  "nbformat": 4,
  "nbformat_minor": 0,
  "metadata": {
    "colab": {
      "provenance": [],
      "authorship_tag": "ABX9TyO+Jr8hg1EXspWY8LJuT5MI",
      "include_colab_link": true
    },
    "kernelspec": {
      "name": "ir",
      "display_name": "R"
    },
    "language_info": {
      "name": "R"
    }
  },
  "cells": [
    {
      "cell_type": "markdown",
      "metadata": {
        "id": "view-in-github",
        "colab_type": "text"
      },
      "source": [
        "<a href=\"https://colab.research.google.com/github/yangpimpollo/temp2/blob/main/ExpoRegre.ipynb\" target=\"_parent\"><img src=\"https://colab.research.google.com/assets/colab-badge.svg\" alt=\"Open In Colab\"/></a>"
      ]
    },
    {
      "cell_type": "markdown",
      "source": [
        "**Cargar Datos**"
      ],
      "metadata": {
        "id": "xU4qy-Htq9JD"
      }
    },
    {
      "cell_type": "code",
      "execution_count": null,
      "metadata": {
        "colab": {
          "base_uri": "https://localhost:8080/",
          "height": 286
        },
        "id": "pMFsmy9sporg",
        "outputId": "ffcb5287-7232-4bc2-ea68-a405fe58fb51"
      },
      "outputs": [
        {
          "output_type": "display_data",
          "data": {
            "text/html": [
              "<table class=\"dataframe\">\n",
              "<caption>A data.frame: 6 × 2</caption>\n",
              "<thead>\n",
              "\t<tr><th></th><th scope=col>costs</th><th scope=col>revenue</th></tr>\n",
              "\t<tr><th></th><th scope=col>&lt;dbl&gt;</th><th scope=col>&lt;dbl&gt;</th></tr>\n",
              "</thead>\n",
              "<tbody>\n",
              "\t<tr><th scope=row>1</th><td>108.05</td><td> 900</td></tr>\n",
              "\t<tr><th scope=row>2</th><td>123.98</td><td> 918</td></tr>\n",
              "\t<tr><th scope=row>3</th><td>154.07</td><td>1080</td></tr>\n",
              "\t<tr><th scope=row>4</th><td>177.38</td><td>1350</td></tr>\n",
              "\t<tr><th scope=row>5</th><td>189.65</td><td>1791</td></tr>\n",
              "\t<tr><th scope=row>6</th><td>169.10</td><td>1800</td></tr>\n",
              "</tbody>\n",
              "</table>\n"
            ],
            "text/markdown": "\nA data.frame: 6 × 2\n\n| <!--/--> | costs &lt;dbl&gt; | revenue &lt;dbl&gt; |\n|---|---|---|\n| 1 | 108.05 |  900 |\n| 2 | 123.98 |  918 |\n| 3 | 154.07 | 1080 |\n| 4 | 177.38 | 1350 |\n| 5 | 189.65 | 1791 |\n| 6 | 169.10 | 1800 |\n\n",
            "text/latex": "A data.frame: 6 × 2\n\\begin{tabular}{r|ll}\n  & costs & revenue\\\\\n  & <dbl> & <dbl>\\\\\n\\hline\n\t1 & 108.05 &  900\\\\\n\t2 & 123.98 &  918\\\\\n\t3 & 154.07 & 1080\\\\\n\t4 & 177.38 & 1350\\\\\n\t5 & 189.65 & 1791\\\\\n\t6 & 169.10 & 1800\\\\\n\\end{tabular}\n",
            "text/plain": [
              "  costs  revenue\n",
              "1 108.05  900   \n",
              "2 123.98  918   \n",
              "3 154.07 1080   \n",
              "4 177.38 1350   \n",
              "5 189.65 1791   \n",
              "6 169.10 1800   "
            ]
          },
          "metadata": {}
        }
      ],
      "source": [
        "data1 <- read.csv(\"data2.csv\", sep = \";\")\n",
        "head(data1)"
      ]
    },
    {
      "cell_type": "code",
      "source": [
        "dim(data1)"
      ],
      "metadata": {
        "colab": {
          "base_uri": "https://localhost:8080/",
          "height": 34
        },
        "id": "0xImHK1eqOtE",
        "outputId": "d3c5ffc7-25fe-4593-a9c0-7a8b3c9cf46f"
      },
      "execution_count": null,
      "outputs": [
        {
          "output_type": "display_data",
          "data": {
            "text/html": [
              "<style>\n",
              ".list-inline {list-style: none; margin:0; padding: 0}\n",
              ".list-inline>li {display: inline-block}\n",
              ".list-inline>li:not(:last-child)::after {content: \"\\00b7\"; padding: 0 .5ex}\n",
              "</style>\n",
              "<ol class=list-inline><li>50</li><li>2</li></ol>\n"
            ],
            "text/markdown": "1. 50\n2. 2\n\n\n",
            "text/latex": "\\begin{enumerate*}\n\\item 50\n\\item 2\n\\end{enumerate*}\n",
            "text/plain": [
              "[1] 50  2"
            ]
          },
          "metadata": {}
        }
      ]
    },
    {
      "cell_type": "markdown",
      "source": [
        "**Paquetes Principales**"
      ],
      "metadata": {
        "id": "Kjrxt9XFrN16"
      }
    },
    {
      "cell_type": "code",
      "source": [
        "install.packages('lmtest')\n",
        "library(lmtest)\n",
        "library(ggplot2)"
      ],
      "metadata": {
        "colab": {
          "base_uri": "https://localhost:8080/"
        },
        "id": "eTL8y4CsqkNL",
        "outputId": "7a47f0d6-1c7a-4db7-9829-c4a8b88e04d1"
      },
      "execution_count": null,
      "outputs": [
        {
          "output_type": "stream",
          "name": "stderr",
          "text": [
            "Installing package into ‘/usr/local/lib/R/site-library’\n",
            "(as ‘lib’ is unspecified)\n",
            "\n",
            "also installing the dependency ‘zoo’\n",
            "\n",
            "\n",
            "Loading required package: zoo\n",
            "\n",
            "\n",
            "Attaching package: ‘zoo’\n",
            "\n",
            "\n",
            "The following objects are masked from ‘package:base’:\n",
            "\n",
            "    as.Date, as.Date.numeric\n",
            "\n",
            "\n"
          ]
        }
      ]
    },
    {
      "cell_type": "markdown",
      "source": [
        "**Modelo**"
      ],
      "metadata": {
        "id": "XRzqWgZHrjWb"
      }
    },
    {
      "cell_type": "code",
      "source": [
        "model <- lm(revenue ~ costs, data = data1)\n",
        "\n",
        "data1$residuals <- residuals(model)\n",
        "data1$fitted <- fitted(model)"
      ],
      "metadata": {
        "id": "OzWusSxaqRtS"
      },
      "execution_count": null,
      "outputs": []
    },
    {
      "cell_type": "code",
      "source": [
        "ggplot(data1, aes(x = fitted, y = residuals)) +\n",
        "  geom_point() +\n",
        "  geom_smooth(method = \"lm\", se = FALSE, color = \"red\") +\n",
        "  labs(title = \"Residuos vs Valores Ajustados\",\n",
        "       x = \"Valores Ajustados\",\n",
        "       y = \"Residuos\") +\n",
        "  theme_minimal()"
      ],
      "metadata": {
        "colab": {
          "base_uri": "https://localhost:8080/",
          "height": 454
        },
        "id": "jN4AcArlqcpD",
        "outputId": "0305c73c-c489-48e7-ac46-8dcf5233f7a2"
      },
      "execution_count": null,
      "outputs": [
        {
          "output_type": "stream",
          "name": "stderr",
          "text": [
            "\u001b[1m\u001b[22m`geom_smooth()` using formula = 'y ~ x'\n"
          ]
        },
        {
          "output_type": "display_data",
          "data": {
            "text/plain": [
              "plot without title"
            ],
            "image/png": "[encoded data removed]"
          },
          "metadata": {
            "image/png": {
              "width": 420,
              "height": 420
            }
          }
        }
      ]
    },
    {
      "cell_type": "markdown",
      "source": [
        "**Test de Goldfeld y Quandt**"
      ],
      "metadata": {
        "id": "E_SFEShJrpRL"
      }
    },
    {
      "cell_type": "code",
      "source": [
        "gqtest(model, order.by = ~ costs, data = data1, fraction = 10)"
      ],
      "metadata": {
        "colab": {
          "base_uri": "https://localhost:8080/",
          "height": 121
        },
        "id": "KC82s4rfq1UD",
        "outputId": "52d4ec0c-7504-4de1-8fb2-f3364a67670a"
      },
      "execution_count": null,
      "outputs": [
        {
          "output_type": "display_data",
          "data": {
            "text/plain": [
              "\n",
              "\tGoldfeld-Quandt test\n",
              "\n",
              "data:  model\n",
              "GQ = 8.5916, df1 = 18, df2 = 18, p-value = 1.614e-05\n",
              "alternative hypothesis: variance increases from segment 1 to 2\n"
            ]
          },
          "metadata": {}
        }
      ]
    },
    {
      "cell_type": "markdown",
      "source": [
        "**Conclusión:**\n",
        "*para un α = 5% el p-valor es inferior a 0.05 podemos concluir que existe heterocedasticidad*\n"
      ],
      "metadata": {
        "id": "KXwSM61QrwMj"
      }
    }
  ]
}