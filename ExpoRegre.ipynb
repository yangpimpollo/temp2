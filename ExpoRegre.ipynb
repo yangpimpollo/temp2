{
  "nbformat": 4,
  "nbformat_minor": 0,
  "metadata": {
    "colab": {
      "provenance": [],
      "authorship_tag": "ABX9TyMvYJxWoJHxdozS8CeF0nW7",
      "include_colab_link": true
    },
    "kernelspec": {
      "name": "ir",
      "display_name": "R"
    },
    "language_info": {
      "name": "R"
    }
  },
  "cells": [
    {
      "cell_type": "markdown",
      "metadata": {
        "id": "view-in-github",
        "colab_type": "text"
      },
      "source": [
        "<a href=\"https://colab.research.google.com/github/yangpimpollo/temp2/blob/main/ExpoRegre.ipynb\" target=\"_parent\"><img src=\"https://colab.research.google.com/assets/colab-badge.svg\" alt=\"Open In Colab\"/></a>"
      ]
    },
    {
      "cell_type": "markdown",
      "source": [
        "**Cargar Datos**"
      ],
      "metadata": {
        "id": "xU4qy-Htq9JD"
      }
    },
    {
      "cell_type": "code",
      "execution_count": 12,
      "metadata": {
        "colab": {
          "base_uri": "https://localhost:8080/",
          "height": 286
        },
        "id": "pMFsmy9sporg",
        "outputId": "54d86d3c-8418-4111-f7d4-dbbb64f0187e"
      },
      "outputs": [
        {
          "output_type": "display_data",
          "data": {
            "text/html": [
              "<table class=\"dataframe\">\n",
              "<caption>A data.frame: 6 × 2</caption>\n",
              "<thead>\n",
              "\t<tr><th></th><th scope=col>costs</th><th scope=col>revenue</th></tr>\n",
              "\t<tr><th></th><th scope=col>&lt;dbl&gt;</th><th scope=col>&lt;dbl&gt;</th></tr>\n",
              "</thead>\n",
              "<tbody>\n",
              "\t<tr><th scope=row>1</th><td>108.05</td><td> 900</td></tr>\n",
              "\t<tr><th scope=row>2</th><td>123.98</td><td> 918</td></tr>\n",
              "\t<tr><th scope=row>3</th><td>154.07</td><td>1080</td></tr>\n",
              "\t<tr><th scope=row>4</th><td>177.38</td><td>1350</td></tr>\n",
              "\t<tr><th scope=row>5</th><td>189.65</td><td>1791</td></tr>\n",
              "\t<tr><th scope=row>6</th><td>169.10</td><td>1800</td></tr>\n",
              "</tbody>\n",
              "</table>\n"
            ],
            "text/markdown": "\nA data.frame: 6 × 2\n\n| <!--/--> | costs &lt;dbl&gt; | revenue &lt;dbl&gt; |\n|---|---|---|\n| 1 | 108.05 |  900 |\n| 2 | 123.98 |  918 |\n| 3 | 154.07 | 1080 |\n| 4 | 177.38 | 1350 |\n| 5 | 189.65 | 1791 |\n| 6 | 169.10 | 1800 |\n\n",
            "text/latex": "A data.frame: 6 × 2\n\\begin{tabular}{r|ll}\n  & costs & revenue\\\\\n  & <dbl> & <dbl>\\\\\n\\hline\n\t1 & 108.05 &  900\\\\\n\t2 & 123.98 &  918\\\\\n\t3 & 154.07 & 1080\\\\\n\t4 & 177.38 & 1350\\\\\n\t5 & 189.65 & 1791\\\\\n\t6 & 169.10 & 1800\\\\\n\\end{tabular}\n",
            "text/plain": [
              "  costs  revenue\n",
              "1 108.05  900   \n",
              "2 123.98  918   \n",
              "3 154.07 1080   \n",
              "4 177.38 1350   \n",
              "5 189.65 1791   \n",
              "6 169.10 1800   "
            ]
          },
          "metadata": {}
        }
      ],
      "source": [
        "data1 <- read.csv(\"data2.csv\", sep = \";\")\n",
        "head(data1)"
      ]
    },
    {
      "cell_type": "code",
      "source": [
        "dim(data1)"
      ],
      "metadata": {
        "colab": {
          "base_uri": "https://localhost:8080/",
          "height": 34
        },
        "id": "0xImHK1eqOtE",
        "outputId": "d3c5ffc7-25fe-4593-a9c0-7a8b3c9cf46f"
      },
      "execution_count": null,
      "outputs": [
        {
          "output_type": "display_data",
          "data": {
            "text/html": [
              "<style>\n",
              ".list-inline {list-style: none; margin:0; padding: 0}\n",
              ".list-inline>li {display: inline-block}\n",
              ".list-inline>li:not(:last-child)::after {content: \"\\00b7\"; padding: 0 .5ex}\n",
              "</style>\n",
              "<ol class=list-inline><li>50</li><li>2</li></ol>\n"
            ],
            "text/markdown": "1. 50\n2. 2\n\n\n",
            "text/latex": "\\begin{enumerate*}\n\\item 50\n\\item 2\n\\end{enumerate*}\n",
            "text/plain": [
              "[1] 50  2"
            ]
          },
          "metadata": {}
        }
      ]
    },
    {
      "cell_type": "markdown",
      "source": [
        "**Paquetes Principales**"
      ],
      "metadata": {
        "id": "Kjrxt9XFrN16"
      }
    },
    {
      "cell_type": "code",
      "source": [
        "install.packages('lmtest')\n",
        "library(lmtest)\n",
        "library(ggplot2)"
      ],
      "metadata": {
        "colab": {
          "base_uri": "https://localhost:8080/"
        },
        "id": "eTL8y4CsqkNL",
        "outputId": "0fa1bfc8-11ba-4b1a-e39a-5b625414c6d2"
      },
      "execution_count": 4,
      "outputs": [
        {
          "output_type": "stream",
          "name": "stderr",
          "text": [
            "Installing package into ‘/usr/local/lib/R/site-library’\n",
            "(as ‘lib’ is unspecified)\n",
            "\n",
            "also installing the dependency ‘zoo’\n",
            "\n",
            "\n",
            "Loading required package: zoo\n",
            "\n",
            "\n",
            "Attaching package: ‘zoo’\n",
            "\n",
            "\n",
            "The following objects are masked from ‘package:base’:\n",
            "\n",
            "    as.Date, as.Date.numeric\n",
            "\n",
            "\n"
          ]
        }
      ]
    },
    {
      "cell_type": "markdown",
      "source": [
        "**Modelo**"
      ],
      "metadata": {
        "id": "XRzqWgZHrjWb"
      }
    },
    {
      "cell_type": "code",
      "source": [
        "model <- lm(revenue ~ costs, data = data1)\n",
        "\n",
        "data1$residuals <- residuals(model)\n",
        "data1$fitted <- fitted(model)"
      ],
      "metadata": {
        "id": "OzWusSxaqRtS"
      },
      "execution_count": 5,
      "outputs": []
    },
    {
      "cell_type": "code",
      "source": [
        "summary.lm(model)"
      ],
      "metadata": {
        "id": "5LB1RGE3J6Ru",
        "outputId": "326416d6-9ccd-46d4-fcab-8130cfc415b3",
        "colab": {
          "base_uri": "https://localhost:8080/",
          "height": 329
        }
      },
      "execution_count": 24,
      "outputs": [
        {
          "output_type": "display_data",
          "data": {
            "text/plain": [
              "\n",
              "Call:\n",
              "lm(formula = revenue ~ costs, data = data1)\n",
              "\n",
              "Residuals:\n",
              "     Min       1Q   Median       3Q      Max \n",
              "-1717.19  -404.12   -88.42   386.88  1560.67 \n",
              "\n",
              "Coefficients:\n",
              "            Estimate Std. Error t value Pr(>|t|)    \n",
              "(Intercept) -220.991    250.058  -0.884    0.381    \n",
              "costs         11.411      0.463  24.646   <2e-16 ***\n",
              "---\n",
              "Signif. codes:  0 ‘***’ 0.001 ‘**’ 0.01 ‘*’ 0.05 ‘.’ 0.1 ‘ ’ 1\n",
              "\n",
              "Residual standard error: 733.2 on 48 degrees of freedom\n",
              "Multiple R-squared:  0.9268,\tAdjusted R-squared:  0.9252 \n",
              "F-statistic: 607.4 on 1 and 48 DF,  p-value: < 2.2e-16\n"
            ]
          },
          "metadata": {}
        }
      ]
    },
    {
      "cell_type": "code",
      "source": [
        "ggplot(data1, aes(x = fitted, y = residuals)) +\n",
        "  geom_point() +\n",
        "  geom_smooth(method = \"lm\", se = FALSE, color = \"red\") +\n",
        "  labs(title = \"Residuos vs Valores Ajustados\",\n",
        "       x = \"Valores Ajustados\",\n",
        "       y = \"Residuos\") +\n",
        "  theme_minimal()"
      ],
      "metadata": {
        "colab": {
          "base_uri": "https://localhost:8080/",
          "height": 454
        },
        "id": "jN4AcArlqcpD",
        "outputId": "882e2894-2e9b-4a45-b4fb-34a8ad90fc1d"
      },
      "execution_count": 6,
      "outputs": [
        {
          "output_type": "stream",
          "name": "stderr",
          "text": [
            "\u001b[1m\u001b[22m`geom_smooth()` using formula = 'y ~ x'\n"
          ]
        },
        {
          "output_type": "display_data",
          "data": {
            "text/plain": [
              "plot without title"
            ],
            "image/png": "[encoded data removed]"
          },
          "metadata": {
            "image/png": {
              "width": 420,
              "height": 420
            }
          }
        }
      ]
    },
    {
      "cell_type": "markdown",
      "source": [
        "**Test de Goldfeld y Quandt**"
      ],
      "metadata": {
        "id": "E_SFEShJrpRL"
      }
    },
    {
      "cell_type": "code",
      "source": [
        "gqtest(model, order.by = ~ costs, data = data1, fraction = 10)"
      ],
      "metadata": {
        "colab": {
          "base_uri": "https://localhost:8080/",
          "height": 121
        },
        "id": "KC82s4rfq1UD",
        "outputId": "52d4ec0c-7504-4de1-8fb2-f3364a67670a"
      },
      "execution_count": null,
      "outputs": [
        {
          "output_type": "display_data",
          "data": {
            "text/plain": [
              "\n",
              "\tGoldfeld-Quandt test\n",
              "\n",
              "data:  model\n",
              "GQ = 8.5916, df1 = 18, df2 = 18, p-value = 1.614e-05\n",
              "alternative hypothesis: variance increases from segment 1 to 2\n"
            ]
          },
          "metadata": {}
        }
      ]
    },
    {
      "cell_type": "markdown",
      "source": [
        "**Conclusión:**\n",
        "*para un α = 5% el p-valor es inferior a 0.05 podemos concluir que existe heterocedasticidad*\n"
      ],
      "metadata": {
        "id": "KXwSM61QrwMj"
      }
    },
    {
      "cell_type": "markdown",
      "source": [
        "**Transformando nuestro Datos**"
      ],
      "metadata": {
        "id": "lzlM7XJ7GCae"
      }
    },
    {
      "cell_type": "code",
      "source": [
        "data1$logcosts <- log(data1$costs, base = 10)\n",
        "data1$logrevenue <- log(data1$revenue, base = 10)\n",
        "head(data1)"
      ],
      "metadata": {
        "id": "jZmOcUqxFrnn",
        "outputId": "5e9b1bb6-29c0-4a9c-84c0-cb0607753385",
        "colab": {
          "base_uri": "https://localhost:8080/",
          "height": 286
        }
      },
      "execution_count": 13,
      "outputs": [
        {
          "output_type": "display_data",
          "data": {
            "text/html": [
              "<table class=\"dataframe\">\n",
              "<caption>A data.frame: 6 × 4</caption>\n",
              "<thead>\n",
              "\t<tr><th></th><th scope=col>costs</th><th scope=col>revenue</th><th scope=col>logcosts</th><th scope=col>logrevenue</th></tr>\n",
              "\t<tr><th></th><th scope=col>&lt;dbl&gt;</th><th scope=col>&lt;dbl&gt;</th><th scope=col>&lt;dbl&gt;</th><th scope=col>&lt;dbl&gt;</th></tr>\n",
              "</thead>\n",
              "<tbody>\n",
              "\t<tr><th scope=row>1</th><td>108.05</td><td> 900</td><td>2.033625</td><td>2.954243</td></tr>\n",
              "\t<tr><th scope=row>2</th><td>123.98</td><td> 918</td><td>2.093352</td><td>2.962843</td></tr>\n",
              "\t<tr><th scope=row>3</th><td>154.07</td><td>1080</td><td>2.187718</td><td>3.033424</td></tr>\n",
              "\t<tr><th scope=row>4</th><td>177.38</td><td>1350</td><td>2.248905</td><td>3.130334</td></tr>\n",
              "\t<tr><th scope=row>5</th><td>189.65</td><td>1791</td><td>2.277953</td><td>3.253096</td></tr>\n",
              "\t<tr><th scope=row>6</th><td>169.10</td><td>1800</td><td>2.228144</td><td>3.255273</td></tr>\n",
              "</tbody>\n",
              "</table>\n"
            ],
            "text/markdown": "\nA data.frame: 6 × 4\n\n| <!--/--> | costs &lt;dbl&gt; | revenue &lt;dbl&gt; | logcosts &lt;dbl&gt; | logrevenue &lt;dbl&gt; |\n|---|---|---|---|---|\n| 1 | 108.05 |  900 | 2.033625 | 2.954243 |\n| 2 | 123.98 |  918 | 2.093352 | 2.962843 |\n| 3 | 154.07 | 1080 | 2.187718 | 3.033424 |\n| 4 | 177.38 | 1350 | 2.248905 | 3.130334 |\n| 5 | 189.65 | 1791 | 2.277953 | 3.253096 |\n| 6 | 169.10 | 1800 | 2.228144 | 3.255273 |\n\n",
            "text/latex": "A data.frame: 6 × 4\n\\begin{tabular}{r|llll}\n  & costs & revenue & logcosts & logrevenue\\\\\n  & <dbl> & <dbl> & <dbl> & <dbl>\\\\\n\\hline\n\t1 & 108.05 &  900 & 2.033625 & 2.954243\\\\\n\t2 & 123.98 &  918 & 2.093352 & 2.962843\\\\\n\t3 & 154.07 & 1080 & 2.187718 & 3.033424\\\\\n\t4 & 177.38 & 1350 & 2.248905 & 3.130334\\\\\n\t5 & 189.65 & 1791 & 2.277953 & 3.253096\\\\\n\t6 & 169.10 & 1800 & 2.228144 & 3.255273\\\\\n\\end{tabular}\n",
            "text/plain": [
              "  costs  revenue logcosts logrevenue\n",
              "1 108.05  900    2.033625 2.954243  \n",
              "2 123.98  918    2.093352 2.962843  \n",
              "3 154.07 1080    2.187718 3.033424  \n",
              "4 177.38 1350    2.248905 3.130334  \n",
              "5 189.65 1791    2.277953 3.253096  \n",
              "6 169.10 1800    2.228144 3.255273  "
            ]
          },
          "metadata": {}
        }
      ]
    },
    {
      "cell_type": "code",
      "source": [
        "modelT1 <- lm(logrevenue ~ logcosts, data = data1)\n",
        "modelT1"
      ],
      "metadata": {
        "id": "5oR2KbWzGVt2",
        "outputId": "bbe7aa31-b24c-43c2-969b-e5ac767d959c",
        "colab": {
          "base_uri": "https://localhost:8080/",
          "height": 139
        }
      },
      "execution_count": 15,
      "outputs": [
        {
          "output_type": "display_data",
          "data": {
            "text/plain": [
              "\n",
              "Call:\n",
              "lm(formula = logrevenue ~ logcosts, data = data1)\n",
              "\n",
              "Coefficients:\n",
              "(Intercept)     logcosts  \n",
              "     0.6136       1.1553  \n"
            ]
          },
          "metadata": {}
        }
      ]
    },
    {
      "cell_type": "code",
      "source": [
        "summary.lm(modelT1)"
      ],
      "metadata": {
        "id": "nLaJ8YlQHXee",
        "outputId": "8c2b1e1a-67f3-4389-8c2e-2b6e971c26e1",
        "colab": {
          "base_uri": "https://localhost:8080/",
          "height": 329
        }
      },
      "execution_count": 16,
      "outputs": [
        {
          "output_type": "display_data",
          "data": {
            "text/plain": [
              "\n",
              "Call:\n",
              "lm(formula = logrevenue ~ logcosts, data = data1)\n",
              "\n",
              "Residuals:\n",
              "      Min        1Q    Median        3Q       Max \n",
              "-0.107663 -0.028526  0.002788  0.031725  0.120343 \n",
              "\n",
              "Coefficients:\n",
              "            Estimate Std. Error t value Pr(>|t|)    \n",
              "(Intercept)  0.61355    0.08599   7.135 4.56e-09 ***\n",
              "logcosts     1.15533    0.03250  35.548  < 2e-16 ***\n",
              "---\n",
              "Signif. codes:  0 ‘***’ 0.001 ‘**’ 0.01 ‘*’ 0.05 ‘.’ 0.1 ‘ ’ 1\n",
              "\n",
              "Residual standard error: 0.05478 on 48 degrees of freedom\n",
              "Multiple R-squared:  0.9634,\tAdjusted R-squared:  0.9626 \n",
              "F-statistic:  1264 on 1 and 48 DF,  p-value: < 2.2e-16\n"
            ]
          },
          "metadata": {}
        }
      ]
    },
    {
      "cell_type": "code",
      "source": [
        "head(data1)"
      ],
      "metadata": {
        "id": "IA-2v09eHlZP",
        "outputId": "52a2454a-8633-42a0-9005-9b740726754c",
        "colab": {
          "base_uri": "https://localhost:8080/",
          "height": 286
        }
      },
      "execution_count": 17,
      "outputs": [
        {
          "output_type": "display_data",
          "data": {
            "text/html": [
              "<table class=\"dataframe\">\n",
              "<caption>A data.frame: 6 × 4</caption>\n",
              "<thead>\n",
              "\t<tr><th></th><th scope=col>costs</th><th scope=col>revenue</th><th scope=col>logcosts</th><th scope=col>logrevenue</th></tr>\n",
              "\t<tr><th></th><th scope=col>&lt;dbl&gt;</th><th scope=col>&lt;dbl&gt;</th><th scope=col>&lt;dbl&gt;</th><th scope=col>&lt;dbl&gt;</th></tr>\n",
              "</thead>\n",
              "<tbody>\n",
              "\t<tr><th scope=row>1</th><td>108.05</td><td> 900</td><td>2.033625</td><td>2.954243</td></tr>\n",
              "\t<tr><th scope=row>2</th><td>123.98</td><td> 918</td><td>2.093352</td><td>2.962843</td></tr>\n",
              "\t<tr><th scope=row>3</th><td>154.07</td><td>1080</td><td>2.187718</td><td>3.033424</td></tr>\n",
              "\t<tr><th scope=row>4</th><td>177.38</td><td>1350</td><td>2.248905</td><td>3.130334</td></tr>\n",
              "\t<tr><th scope=row>5</th><td>189.65</td><td>1791</td><td>2.277953</td><td>3.253096</td></tr>\n",
              "\t<tr><th scope=row>6</th><td>169.10</td><td>1800</td><td>2.228144</td><td>3.255273</td></tr>\n",
              "</tbody>\n",
              "</table>\n"
            ],
            "text/markdown": "\nA data.frame: 6 × 4\n\n| <!--/--> | costs &lt;dbl&gt; | revenue &lt;dbl&gt; | logcosts &lt;dbl&gt; | logrevenue &lt;dbl&gt; |\n|---|---|---|---|---|\n| 1 | 108.05 |  900 | 2.033625 | 2.954243 |\n| 2 | 123.98 |  918 | 2.093352 | 2.962843 |\n| 3 | 154.07 | 1080 | 2.187718 | 3.033424 |\n| 4 | 177.38 | 1350 | 2.248905 | 3.130334 |\n| 5 | 189.65 | 1791 | 2.277953 | 3.253096 |\n| 6 | 169.10 | 1800 | 2.228144 | 3.255273 |\n\n",
            "text/latex": "A data.frame: 6 × 4\n\\begin{tabular}{r|llll}\n  & costs & revenue & logcosts & logrevenue\\\\\n  & <dbl> & <dbl> & <dbl> & <dbl>\\\\\n\\hline\n\t1 & 108.05 &  900 & 2.033625 & 2.954243\\\\\n\t2 & 123.98 &  918 & 2.093352 & 2.962843\\\\\n\t3 & 154.07 & 1080 & 2.187718 & 3.033424\\\\\n\t4 & 177.38 & 1350 & 2.248905 & 3.130334\\\\\n\t5 & 189.65 & 1791 & 2.277953 & 3.253096\\\\\n\t6 & 169.10 & 1800 & 2.228144 & 3.255273\\\\\n\\end{tabular}\n",
            "text/plain": [
              "  costs  revenue logcosts logrevenue\n",
              "1 108.05  900    2.033625 2.954243  \n",
              "2 123.98  918    2.093352 2.962843  \n",
              "3 154.07 1080    2.187718 3.033424  \n",
              "4 177.38 1350    2.248905 3.130334  \n",
              "5 189.65 1791    2.277953 3.253096  \n",
              "6 169.10 1800    2.228144 3.255273  "
            ]
          },
          "metadata": {}
        }
      ]
    },
    {
      "cell_type": "code",
      "source": [
        "data1$residualsT1 <- residuals(modelT1)\n",
        "data1$fittedT1 <- fitted(modelT1)\n",
        "\n",
        "ggplot(data1, aes(x = fittedT1, y = residualsT1)) +\n",
        "  geom_point() +\n",
        "  geom_smooth(method = \"lm\", se = FALSE, color = \"red\") +\n",
        "  labs(title = \"Residuos vs Valores Ajustados\",\n",
        "       x = \"Valores Ajustados\",\n",
        "       y = \"Residuos\") +\n",
        "  theme_minimal()"
      ],
      "metadata": {
        "id": "uEvbvLwEHdZe",
        "outputId": "d82c9577-be59-4e1a-8789-5ac6142fd728",
        "colab": {
          "base_uri": "https://localhost:8080/",
          "height": 454
        }
      },
      "execution_count": 18,
      "outputs": [
        {
          "output_type": "stream",
          "name": "stderr",
          "text": [
            "\u001b[1m\u001b[22m`geom_smooth()` using formula = 'y ~ x'\n"
          ]
        },
        {
          "output_type": "display_data",
          "data": {
            "text/plain": [
              "plot without title"
            ],
            "image/png": "[encoded data removed]"
          },
          "metadata": {
            "image/png": {
              "width": 420,
              "height": 420
            }
          }
        }
      ]
    },
    {
      "cell_type": "code",
      "source": [
        "gqtest(modelT1, order.by = ~ logcosts, data = data1, fraction = 10)"
      ],
      "metadata": {
        "id": "a1xyszK2H4je",
        "outputId": "f93d60fd-cf8e-4c4a-b6a3-4dc205482f11",
        "colab": {
          "base_uri": "https://localhost:8080/",
          "height": 121
        }
      },
      "execution_count": 26,
      "outputs": [
        {
          "output_type": "display_data",
          "data": {
            "text/plain": [
              "\n",
              "\tGoldfeld-Quandt test\n",
              "\n",
              "data:  modelT1\n",
              "GQ = 1.0203, df1 = 18, df2 = 18, p-value = 0.4832\n",
              "alternative hypothesis: variance increases from segment 1 to 2\n"
            ]
          },
          "metadata": {}
        }
      ]
    },
    {
      "cell_type": "markdown",
      "source": [
        "**Conclusión:**\n",
        "*para un α = 5% el p-valor es superior a 0.05 podemos concluir que corregimos la heterocedasticidad*"
      ],
      "metadata": {
        "id": "7PWmlN0dIV0e"
      }
    },
    {
      "cell_type": "code",
      "source": [
        "head(data1)"
      ],
      "metadata": {
        "id": "q1CdS_PdIw9W",
        "outputId": "95a50b3d-a039-4d5a-a31f-48cf7d65148a",
        "colab": {
          "base_uri": "https://localhost:8080/",
          "height": 286
        }
      },
      "execution_count": 20,
      "outputs": [
        {
          "output_type": "display_data",
          "data": {
            "text/html": [
              "<table class=\"dataframe\">\n",
              "<caption>A data.frame: 6 × 6</caption>\n",
              "<thead>\n",
              "\t<tr><th></th><th scope=col>costs</th><th scope=col>revenue</th><th scope=col>logcosts</th><th scope=col>logrevenue</th><th scope=col>residualsT1</th><th scope=col>fittedT1</th></tr>\n",
              "\t<tr><th></th><th scope=col>&lt;dbl&gt;</th><th scope=col>&lt;dbl&gt;</th><th scope=col>&lt;dbl&gt;</th><th scope=col>&lt;dbl&gt;</th><th scope=col>&lt;dbl&gt;</th><th scope=col>&lt;dbl&gt;</th></tr>\n",
              "</thead>\n",
              "<tbody>\n",
              "\t<tr><th scope=row>1</th><td>108.05</td><td> 900</td><td>2.033625</td><td>2.954243</td><td>-0.008816084</td><td>2.963059</td></tr>\n",
              "\t<tr><th scope=row>2</th><td>123.98</td><td> 918</td><td>2.093352</td><td>2.962843</td><td>-0.069220131</td><td>3.032063</td></tr>\n",
              "\t<tr><th scope=row>3</th><td>154.07</td><td>1080</td><td>2.187718</td><td>3.033424</td><td>-0.107663357</td><td>3.141087</td></tr>\n",
              "\t<tr><th scope=row>4</th><td>177.38</td><td>1350</td><td>2.248905</td><td>3.130334</td><td>-0.081444015</td><td>3.211778</td></tr>\n",
              "\t<tr><th scope=row>5</th><td>189.65</td><td>1791</td><td>2.277953</td><td>3.253096</td><td> 0.007757580</td><td>3.245338</td></tr>\n",
              "\t<tr><th scope=row>6</th><td>169.10</td><td>1800</td><td>2.228144</td><td>3.255273</td><td> 0.067480579</td><td>3.187792</td></tr>\n",
              "</tbody>\n",
              "</table>\n"
            ],
            "text/markdown": "\nA data.frame: 6 × 6\n\n| <!--/--> | costs &lt;dbl&gt; | revenue &lt;dbl&gt; | logcosts &lt;dbl&gt; | logrevenue &lt;dbl&gt; | residualsT1 &lt;dbl&gt; | fittedT1 &lt;dbl&gt; |\n|---|---|---|---|---|---|---|\n| 1 | 108.05 |  900 | 2.033625 | 2.954243 | -0.008816084 | 2.963059 |\n| 2 | 123.98 |  918 | 2.093352 | 2.962843 | -0.069220131 | 3.032063 |\n| 3 | 154.07 | 1080 | 2.187718 | 3.033424 | -0.107663357 | 3.141087 |\n| 4 | 177.38 | 1350 | 2.248905 | 3.130334 | -0.081444015 | 3.211778 |\n| 5 | 189.65 | 1791 | 2.277953 | 3.253096 |  0.007757580 | 3.245338 |\n| 6 | 169.10 | 1800 | 2.228144 | 3.255273 |  0.067480579 | 3.187792 |\n\n",
            "text/latex": "A data.frame: 6 × 6\n\\begin{tabular}{r|llllll}\n  & costs & revenue & logcosts & logrevenue & residualsT1 & fittedT1\\\\\n  & <dbl> & <dbl> & <dbl> & <dbl> & <dbl> & <dbl>\\\\\n\\hline\n\t1 & 108.05 &  900 & 2.033625 & 2.954243 & -0.008816084 & 2.963059\\\\\n\t2 & 123.98 &  918 & 2.093352 & 2.962843 & -0.069220131 & 3.032063\\\\\n\t3 & 154.07 & 1080 & 2.187718 & 3.033424 & -0.107663357 & 3.141087\\\\\n\t4 & 177.38 & 1350 & 2.248905 & 3.130334 & -0.081444015 & 3.211778\\\\\n\t5 & 189.65 & 1791 & 2.277953 & 3.253096 &  0.007757580 & 3.245338\\\\\n\t6 & 169.10 & 1800 & 2.228144 & 3.255273 &  0.067480579 & 3.187792\\\\\n\\end{tabular}\n",
            "text/plain": [
              "  costs  revenue logcosts logrevenue residualsT1  fittedT1\n",
              "1 108.05  900    2.033625 2.954243   -0.008816084 2.963059\n",
              "2 123.98  918    2.093352 2.962843   -0.069220131 3.032063\n",
              "3 154.07 1080    2.187718 3.033424   -0.107663357 3.141087\n",
              "4 177.38 1350    2.248905 3.130334   -0.081444015 3.211778\n",
              "5 189.65 1791    2.277953 3.253096    0.007757580 3.245338\n",
              "6 169.10 1800    2.228144 3.255273    0.067480579 3.187792"
            ]
          },
          "metadata": {}
        }
      ]
    },
    {
      "cell_type": "code",
      "source": [
        "data1$sqrtcosts <- sqrt(data1$costs)\n",
        "data1$sqrtrevenue <- sqrt(data1$revenue)\n",
        "head(data1)"
      ],
      "metadata": {
        "id": "kqMwYDYlI_kF",
        "outputId": "33cee427-a60f-40c1-ad11-7aac48062ce7",
        "colab": {
          "base_uri": "https://localhost:8080/",
          "height": 286
        }
      },
      "execution_count": 21,
      "outputs": [
        {
          "output_type": "display_data",
          "data": {
            "text/html": [
              "<table class=\"dataframe\">\n",
              "<caption>A data.frame: 6 × 8</caption>\n",
              "<thead>\n",
              "\t<tr><th></th><th scope=col>costs</th><th scope=col>revenue</th><th scope=col>logcosts</th><th scope=col>logrevenue</th><th scope=col>residualsT1</th><th scope=col>fittedT1</th><th scope=col>sqrtcosts</th><th scope=col>sqrtrevenue</th></tr>\n",
              "\t<tr><th></th><th scope=col>&lt;dbl&gt;</th><th scope=col>&lt;dbl&gt;</th><th scope=col>&lt;dbl&gt;</th><th scope=col>&lt;dbl&gt;</th><th scope=col>&lt;dbl&gt;</th><th scope=col>&lt;dbl&gt;</th><th scope=col>&lt;dbl&gt;</th><th scope=col>&lt;dbl&gt;</th></tr>\n",
              "</thead>\n",
              "<tbody>\n",
              "\t<tr><th scope=row>1</th><td>108.05</td><td> 900</td><td>2.033625</td><td>2.954243</td><td>-0.008816084</td><td>2.963059</td><td>10.39471</td><td>30.00000</td></tr>\n",
              "\t<tr><th scope=row>2</th><td>123.98</td><td> 918</td><td>2.093352</td><td>2.962843</td><td>-0.069220131</td><td>3.032063</td><td>11.13463</td><td>30.29851</td></tr>\n",
              "\t<tr><th scope=row>3</th><td>154.07</td><td>1080</td><td>2.187718</td><td>3.033424</td><td>-0.107663357</td><td>3.141087</td><td>12.41249</td><td>32.86335</td></tr>\n",
              "\t<tr><th scope=row>4</th><td>177.38</td><td>1350</td><td>2.248905</td><td>3.130334</td><td>-0.081444015</td><td>3.211778</td><td>13.31841</td><td>36.74235</td></tr>\n",
              "\t<tr><th scope=row>5</th><td>189.65</td><td>1791</td><td>2.277953</td><td>3.253096</td><td> 0.007757580</td><td>3.245338</td><td>13.77135</td><td>42.32021</td></tr>\n",
              "\t<tr><th scope=row>6</th><td>169.10</td><td>1800</td><td>2.228144</td><td>3.255273</td><td> 0.067480579</td><td>3.187792</td><td>13.00385</td><td>42.42641</td></tr>\n",
              "</tbody>\n",
              "</table>\n"
            ],
            "text/markdown": "\nA data.frame: 6 × 8\n\n| <!--/--> | costs &lt;dbl&gt; | revenue &lt;dbl&gt; | logcosts &lt;dbl&gt; | logrevenue &lt;dbl&gt; | residualsT1 &lt;dbl&gt; | fittedT1 &lt;dbl&gt; | sqrtcosts &lt;dbl&gt; | sqrtrevenue &lt;dbl&gt; |\n|---|---|---|---|---|---|---|---|---|\n| 1 | 108.05 |  900 | 2.033625 | 2.954243 | -0.008816084 | 2.963059 | 10.39471 | 30.00000 |\n| 2 | 123.98 |  918 | 2.093352 | 2.962843 | -0.069220131 | 3.032063 | 11.13463 | 30.29851 |\n| 3 | 154.07 | 1080 | 2.187718 | 3.033424 | -0.107663357 | 3.141087 | 12.41249 | 32.86335 |\n| 4 | 177.38 | 1350 | 2.248905 | 3.130334 | -0.081444015 | 3.211778 | 13.31841 | 36.74235 |\n| 5 | 189.65 | 1791 | 2.277953 | 3.253096 |  0.007757580 | 3.245338 | 13.77135 | 42.32021 |\n| 6 | 169.10 | 1800 | 2.228144 | 3.255273 |  0.067480579 | 3.187792 | 13.00385 | 42.42641 |\n\n",
            "text/latex": "A data.frame: 6 × 8\n\\begin{tabular}{r|llllllll}\n  & costs & revenue & logcosts & logrevenue & residualsT1 & fittedT1 & sqrtcosts & sqrtrevenue\\\\\n  & <dbl> & <dbl> & <dbl> & <dbl> & <dbl> & <dbl> & <dbl> & <dbl>\\\\\n\\hline\n\t1 & 108.05 &  900 & 2.033625 & 2.954243 & -0.008816084 & 2.963059 & 10.39471 & 30.00000\\\\\n\t2 & 123.98 &  918 & 2.093352 & 2.962843 & -0.069220131 & 3.032063 & 11.13463 & 30.29851\\\\\n\t3 & 154.07 & 1080 & 2.187718 & 3.033424 & -0.107663357 & 3.141087 & 12.41249 & 32.86335\\\\\n\t4 & 177.38 & 1350 & 2.248905 & 3.130334 & -0.081444015 & 3.211778 & 13.31841 & 36.74235\\\\\n\t5 & 189.65 & 1791 & 2.277953 & 3.253096 &  0.007757580 & 3.245338 & 13.77135 & 42.32021\\\\\n\t6 & 169.10 & 1800 & 2.228144 & 3.255273 &  0.067480579 & 3.187792 & 13.00385 & 42.42641\\\\\n\\end{tabular}\n",
            "text/plain": [
              "  costs  revenue logcosts logrevenue residualsT1  fittedT1 sqrtcosts\n",
              "1 108.05  900    2.033625 2.954243   -0.008816084 2.963059 10.39471 \n",
              "2 123.98  918    2.093352 2.962843   -0.069220131 3.032063 11.13463 \n",
              "3 154.07 1080    2.187718 3.033424   -0.107663357 3.141087 12.41249 \n",
              "4 177.38 1350    2.248905 3.130334   -0.081444015 3.211778 13.31841 \n",
              "5 189.65 1791    2.277953 3.253096    0.007757580 3.245338 13.77135 \n",
              "6 169.10 1800    2.228144 3.255273    0.067480579 3.187792 13.00385 \n",
              "  sqrtrevenue\n",
              "1 30.00000   \n",
              "2 30.29851   \n",
              "3 32.86335   \n",
              "4 36.74235   \n",
              "5 42.32021   \n",
              "6 42.42641   "
            ]
          },
          "metadata": {}
        }
      ]
    },
    {
      "cell_type": "code",
      "source": [
        "modelT2 <- lm(sqrtrevenue ~ sqrtcosts, data = data1)\n",
        "modelT2"
      ],
      "metadata": {
        "id": "t-xTcOiwJnpO",
        "outputId": "7200346c-6b35-428f-c402-c756c95ee41b",
        "colab": {
          "base_uri": "https://localhost:8080/",
          "height": 139
        }
      },
      "execution_count": 22,
      "outputs": [
        {
          "output_type": "display_data",
          "data": {
            "text/plain": [
              "\n",
              "Call:\n",
              "lm(formula = sqrtrevenue ~ sqrtcosts, data = data1)\n",
              "\n",
              "Coefficients:\n",
              "(Intercept)    sqrtcosts  \n",
              "     -6.757        3.600  \n"
            ]
          },
          "metadata": {}
        }
      ]
    },
    {
      "cell_type": "code",
      "source": [
        "summary.lm(modelT2)"
      ],
      "metadata": {
        "id": "cCcFaJ-BJziT",
        "outputId": "ceb1d72c-8139-426c-ae22-8954781f2c54",
        "colab": {
          "base_uri": "https://localhost:8080/",
          "height": 329
        }
      },
      "execution_count": 23,
      "outputs": [
        {
          "output_type": "display_data",
          "data": {
            "text/plain": [
              "\n",
              "Call:\n",
              "lm(formula = sqrtrevenue ~ sqrtcosts, data = data1)\n",
              "\n",
              "Residuals:\n",
              "    Min      1Q  Median      3Q     Max \n",
              "-9.8261 -2.6662 -0.0686  2.8017  9.8550 \n",
              "\n",
              "Coefficients:\n",
              "            Estimate Std. Error t value Pr(>|t|)    \n",
              "(Intercept)  -6.7567     2.6445  -2.555   0.0138 *  \n",
              "sqrtcosts     3.5997     0.1193  30.177   <2e-16 ***\n",
              "---\n",
              "Signif. codes:  0 ‘***’ 0.001 ‘**’ 0.01 ‘*’ 0.05 ‘.’ 0.1 ‘ ’ 1\n",
              "\n",
              "Residual standard error: 4.516 on 48 degrees of freedom\n",
              "Multiple R-squared:  0.9499,\tAdjusted R-squared:  0.9489 \n",
              "F-statistic: 910.7 on 1 and 48 DF,  p-value: < 2.2e-16\n"
            ]
          },
          "metadata": {}
        }
      ]
    },
    {
      "cell_type": "code",
      "source": [
        "data1$residualsT2 <- residuals(modelT2)\n",
        "data1$fittedT2 <- fitted(modelT2)\n",
        "\n",
        "ggplot(data1, aes(x = fittedT2, y = residualsT2)) +\n",
        "  geom_point() +\n",
        "  geom_smooth(method = \"lm\", se = FALSE, color = \"red\") +\n",
        "  labs(title = \"Residuos vs Valores Ajustados\",\n",
        "       x = \"Valores Ajustados\",\n",
        "       y = \"Residuos\") +\n",
        "  theme_minimal()"
      ],
      "metadata": {
        "id": "gFJRwEwLJ-Qm",
        "outputId": "4b68a33c-b482-496a-9635-49bbfeeed894",
        "colab": {
          "base_uri": "https://localhost:8080/",
          "height": 454
        }
      },
      "execution_count": 25,
      "outputs": [
        {
          "output_type": "stream",
          "name": "stderr",
          "text": [
            "\u001b[1m\u001b[22m`geom_smooth()` using formula = 'y ~ x'\n"
          ]
        },
        {
          "output_type": "display_data",
          "data": {
            "text/plain": [
              "plot without title"
            ],
            "image/png": "[encoded data removed]"
          },
          "metadata": {
            "image/png": {
              "width": 420,
              "height": 420
            }
          }
        }
      ]
    },
    {
      "cell_type": "code",
      "source": [
        "gqtest(modelT2, order.by = ~ sqrtcosts, data = data1, fraction = 10)"
      ],
      "metadata": {
        "id": "yehn-ERjKUOO",
        "outputId": "6c90b28d-c360-4c51-b9dc-e37134f65a43",
        "colab": {
          "base_uri": "https://localhost:8080/",
          "height": 121
        }
      },
      "execution_count": 27,
      "outputs": [
        {
          "output_type": "display_data",
          "data": {
            "text/plain": [
              "\n",
              "\tGoldfeld-Quandt test\n",
              "\n",
              "data:  modelT2\n",
              "GQ = 3.2579, df1 = 18, df2 = 18, p-value = 0.008081\n",
              "alternative hypothesis: variance increases from segment 1 to 2\n"
            ]
          },
          "metadata": {}
        }
      ]
    },
    {
      "cell_type": "code",
      "source": [
        "data1$incosts <- 1 / (data1$costs)\n",
        "data1$inrevenue <- 1 / (data1$revenue)\n",
        "head(data1)"
      ],
      "metadata": {
        "id": "P1R-UXNJKhSe",
        "outputId": "6680547e-dec6-490e-b826-f0936a65338c",
        "colab": {
          "base_uri": "https://localhost:8080/",
          "height": 286
        }
      },
      "execution_count": 28,
      "outputs": [
        {
          "output_type": "display_data",
          "data": {
            "text/html": [
              "<table class=\"dataframe\">\n",
              "<caption>A data.frame: 6 × 12</caption>\n",
              "<thead>\n",
              "\t<tr><th></th><th scope=col>costs</th><th scope=col>revenue</th><th scope=col>logcosts</th><th scope=col>logrevenue</th><th scope=col>residualsT1</th><th scope=col>fittedT1</th><th scope=col>sqrtcosts</th><th scope=col>sqrtrevenue</th><th scope=col>residualsT2</th><th scope=col>fittedT2</th><th scope=col>incosts</th><th scope=col>inrevenue</th></tr>\n",
              "\t<tr><th></th><th scope=col>&lt;dbl&gt;</th><th scope=col>&lt;dbl&gt;</th><th scope=col>&lt;dbl&gt;</th><th scope=col>&lt;dbl&gt;</th><th scope=col>&lt;dbl&gt;</th><th scope=col>&lt;dbl&gt;</th><th scope=col>&lt;dbl&gt;</th><th scope=col>&lt;dbl&gt;</th><th scope=col>&lt;dbl&gt;</th><th scope=col>&lt;dbl&gt;</th><th scope=col>&lt;dbl&gt;</th><th scope=col>&lt;dbl&gt;</th></tr>\n",
              "</thead>\n",
              "<tbody>\n",
              "\t<tr><th scope=row>1</th><td>108.05</td><td> 900</td><td>2.033625</td><td>2.954243</td><td>-0.008816084</td><td>2.963059</td><td>10.39471</td><td>30.00000</td><td>-0.6607939</td><td>30.66079</td><td>0.009254975</td><td>0.0011111111</td></tr>\n",
              "\t<tr><th scope=row>2</th><td>123.98</td><td> 918</td><td>2.093352</td><td>2.962843</td><td>-0.069220131</td><td>3.032063</td><td>11.13463</td><td>30.29851</td><td>-3.0257449</td><td>33.32426</td><td>0.008065817</td><td>0.0010893246</td></tr>\n",
              "\t<tr><th scope=row>3</th><td>154.07</td><td>1080</td><td>2.187718</td><td>3.033424</td><td>-0.107663357</td><td>3.141087</td><td>12.41249</td><td>32.86335</td><td>-5.0607823</td><td>37.92414</td><td>0.006490556</td><td>0.0009259259</td></tr>\n",
              "\t<tr><th scope=row>4</th><td>177.38</td><td>1350</td><td>2.248905</td><td>3.130334</td><td>-0.081444015</td><td>3.211778</td><td>13.31841</td><td>36.74235</td><td>-4.4427791</td><td>41.18513</td><td>0.005637614</td><td>0.0007407407</td></tr>\n",
              "\t<tr><th scope=row>5</th><td>189.65</td><td>1791</td><td>2.277953</td><td>3.253096</td><td> 0.007757580</td><td>3.245338</td><td>13.77135</td><td>42.32021</td><td>-0.4953439</td><td>42.81555</td><td>0.005272871</td><td>0.0005583473</td></tr>\n",
              "\t<tr><th scope=row>6</th><td>169.10</td><td>1800</td><td>2.228144</td><td>3.255273</td><td> 0.067480579</td><td>3.187792</td><td>13.00385</td><td>42.42641</td><td> 2.3736024</td><td>40.05280</td><td>0.005913661</td><td>0.0005555556</td></tr>\n",
              "</tbody>\n",
              "</table>\n"
            ],
            "text/markdown": "\nA data.frame: 6 × 12\n\n| <!--/--> | costs &lt;dbl&gt; | revenue &lt;dbl&gt; | logcosts &lt;dbl&gt; | logrevenue &lt;dbl&gt; | residualsT1 &lt;dbl&gt; | fittedT1 &lt;dbl&gt; | sqrtcosts &lt;dbl&gt; | sqrtrevenue &lt;dbl&gt; | residualsT2 &lt;dbl&gt; | fittedT2 &lt;dbl&gt; | incosts &lt;dbl&gt; | inrevenue &lt;dbl&gt; |\n|---|---|---|---|---|---|---|---|---|---|---|---|---|\n| 1 | 108.05 |  900 | 2.033625 | 2.954243 | -0.008816084 | 2.963059 | 10.39471 | 30.00000 | -0.6607939 | 30.66079 | 0.009254975 | 0.0011111111 |\n| 2 | 123.98 |  918 | 2.093352 | 2.962843 | -0.069220131 | 3.032063 | 11.13463 | 30.29851 | -3.0257449 | 33.32426 | 0.008065817 | 0.0010893246 |\n| 3 | 154.07 | 1080 | 2.187718 | 3.033424 | -0.107663357 | 3.141087 | 12.41249 | 32.86335 | -5.0607823 | 37.92414 | 0.006490556 | 0.0009259259 |\n| 4 | 177.38 | 1350 | 2.248905 | 3.130334 | -0.081444015 | 3.211778 | 13.31841 | 36.74235 | -4.4427791 | 41.18513 | 0.005637614 | 0.0007407407 |\n| 5 | 189.65 | 1791 | 2.277953 | 3.253096 |  0.007757580 | 3.245338 | 13.77135 | 42.32021 | -0.4953439 | 42.81555 | 0.005272871 | 0.0005583473 |\n| 6 | 169.10 | 1800 | 2.228144 | 3.255273 |  0.067480579 | 3.187792 | 13.00385 | 42.42641 |  2.3736024 | 40.05280 | 0.005913661 | 0.0005555556 |\n\n",
            "text/latex": "A data.frame: 6 × 12\n\\begin{tabular}{r|llllllllllll}\n  & costs & revenue & logcosts & logrevenue & residualsT1 & fittedT1 & sqrtcosts & sqrtrevenue & residualsT2 & fittedT2 & incosts & inrevenue\\\\\n  & <dbl> & <dbl> & <dbl> & <dbl> & <dbl> & <dbl> & <dbl> & <dbl> & <dbl> & <dbl> & <dbl> & <dbl>\\\\\n\\hline\n\t1 & 108.05 &  900 & 2.033625 & 2.954243 & -0.008816084 & 2.963059 & 10.39471 & 30.00000 & -0.6607939 & 30.66079 & 0.009254975 & 0.0011111111\\\\\n\t2 & 123.98 &  918 & 2.093352 & 2.962843 & -0.069220131 & 3.032063 & 11.13463 & 30.29851 & -3.0257449 & 33.32426 & 0.008065817 & 0.0010893246\\\\\n\t3 & 154.07 & 1080 & 2.187718 & 3.033424 & -0.107663357 & 3.141087 & 12.41249 & 32.86335 & -5.0607823 & 37.92414 & 0.006490556 & 0.0009259259\\\\\n\t4 & 177.38 & 1350 & 2.248905 & 3.130334 & -0.081444015 & 3.211778 & 13.31841 & 36.74235 & -4.4427791 & 41.18513 & 0.005637614 & 0.0007407407\\\\\n\t5 & 189.65 & 1791 & 2.277953 & 3.253096 &  0.007757580 & 3.245338 & 13.77135 & 42.32021 & -0.4953439 & 42.81555 & 0.005272871 & 0.0005583473\\\\\n\t6 & 169.10 & 1800 & 2.228144 & 3.255273 &  0.067480579 & 3.187792 & 13.00385 & 42.42641 &  2.3736024 & 40.05280 & 0.005913661 & 0.0005555556\\\\\n\\end{tabular}\n",
            "text/plain": [
              "  costs  revenue logcosts logrevenue residualsT1  fittedT1 sqrtcosts\n",
              "1 108.05  900    2.033625 2.954243   -0.008816084 2.963059 10.39471 \n",
              "2 123.98  918    2.093352 2.962843   -0.069220131 3.032063 11.13463 \n",
              "3 154.07 1080    2.187718 3.033424   -0.107663357 3.141087 12.41249 \n",
              "4 177.38 1350    2.248905 3.130334   -0.081444015 3.211778 13.31841 \n",
              "5 189.65 1791    2.277953 3.253096    0.007757580 3.245338 13.77135 \n",
              "6 169.10 1800    2.228144 3.255273    0.067480579 3.187792 13.00385 \n",
              "  sqrtrevenue residualsT2 fittedT2 incosts     inrevenue   \n",
              "1 30.00000    -0.6607939  30.66079 0.009254975 0.0011111111\n",
              "2 30.29851    -3.0257449  33.32426 0.008065817 0.0010893246\n",
              "3 32.86335    -5.0607823  37.92414 0.006490556 0.0009259259\n",
              "4 36.74235    -4.4427791  41.18513 0.005637614 0.0007407407\n",
              "5 42.32021    -0.4953439  42.81555 0.005272871 0.0005583473\n",
              "6 42.42641     2.3736024  40.05280 0.005913661 0.0005555556"
            ]
          },
          "metadata": {}
        }
      ]
    },
    {
      "cell_type": "code",
      "source": [
        "modelT3 <- lm(inrevenue ~ incosts, data = data1)\n",
        "modelT3"
      ],
      "metadata": {
        "id": "OTmuVpDPK29W",
        "outputId": "fc3bde29-01b5-43f0-a8b3-92e3300974da",
        "colab": {
          "base_uri": "https://localhost:8080/",
          "height": 139
        }
      },
      "execution_count": 29,
      "outputs": [
        {
          "output_type": "display_data",
          "data": {
            "text/plain": [
              "\n",
              "Call:\n",
              "lm(formula = inrevenue ~ incosts, data = data1)\n",
              "\n",
              "Coefficients:\n",
              "(Intercept)      incosts  \n",
              " -7.315e-05    1.292e-01  \n"
            ]
          },
          "metadata": {}
        }
      ]
    },
    {
      "cell_type": "code",
      "source": [
        "summary.lm(modelT3)"
      ],
      "metadata": {
        "id": "HgSQQP_8K7VF",
        "outputId": "fbbae7df-1a0d-40c4-f234-567526773dfd",
        "colab": {
          "base_uri": "https://localhost:8080/",
          "height": 329
        }
      },
      "execution_count": 30,
      "outputs": [
        {
          "output_type": "display_data",
          "data": {
            "text/plain": [
              "\n",
              "Call:\n",
              "lm(formula = inrevenue ~ incosts, data = data1)\n",
              "\n",
              "Residuals:\n",
              "       Min         1Q     Median         3Q        Max \n",
              "-1.356e-04 -2.591e-05  4.015e-06  1.512e-05  1.602e-04 \n",
              "\n",
              "Coefficients:\n",
              "              Estimate Std. Error t value Pr(>|t|)    \n",
              "(Intercept) -7.315e-05  1.232e-05  -5.937 3.13e-07 ***\n",
              "incosts      1.292e-01  3.741e-03  34.548  < 2e-16 ***\n",
              "---\n",
              "Signif. codes:  0 ‘***’ 0.001 ‘**’ 0.01 ‘*’ 0.05 ‘.’ 0.1 ‘ ’ 1\n",
              "\n",
              "Residual standard error: 4.825e-05 on 48 degrees of freedom\n",
              "Multiple R-squared:  0.9613,\tAdjusted R-squared:  0.9605 \n",
              "F-statistic:  1194 on 1 and 48 DF,  p-value: < 2.2e-16\n"
            ]
          },
          "metadata": {}
        }
      ]
    },
    {
      "cell_type": "code",
      "source": [
        "data1$residualsT3 <- residuals(modelT3)\n",
        "data1$fittedT3 <- fitted(modelT3)\n",
        "\n",
        "ggplot(data1, aes(x = fittedT3, y = residualsT3)) +\n",
        "  geom_point() +\n",
        "  geom_smooth(method = \"lm\", se = FALSE, color = \"red\") +\n",
        "  labs(title = \"Residuos vs Valores Ajustados\",\n",
        "       x = \"Valores Ajustados\",\n",
        "       y = \"Residuos\") +\n",
        "  theme_minimal()"
      ],
      "metadata": {
        "id": "uq_5hz-xLBWG",
        "outputId": "02bff85c-bc43-4245-806c-d8b5841f0db5",
        "colab": {
          "base_uri": "https://localhost:8080/",
          "height": 454
        }
      },
      "execution_count": 31,
      "outputs": [
        {
          "output_type": "stream",
          "name": "stderr",
          "text": [
            "\u001b[1m\u001b[22m`geom_smooth()` using formula = 'y ~ x'\n"
          ]
        },
        {
          "output_type": "display_data",
          "data": {
            "text/plain": [
              "plot without title"
            ],
            "image/png": "[encoded data removed]"
          },
          "metadata": {
            "image/png": {
              "width": 420,
              "height": 420
            }
          }
        }
      ]
    },
    {
      "cell_type": "code",
      "source": [
        "gqtest(modelT3, order.by = ~ incosts, data = data1, fraction = 10)"
      ],
      "metadata": {
        "id": "f_yuOqklLKV3",
        "outputId": "61adccaf-70b5-4c5c-b22f-b1bcbb5730c9",
        "colab": {
          "base_uri": "https://localhost:8080/",
          "height": 121
        }
      },
      "execution_count": 32,
      "outputs": [
        {
          "output_type": "display_data",
          "data": {
            "text/plain": [
              "\n",
              "\tGoldfeld-Quandt test\n",
              "\n",
              "data:  modelT3\n",
              "GQ = 18.376, df1 = 18, df2 = 18, p-value = 4.32e-08\n",
              "alternative hypothesis: variance increases from segment 1 to 2\n"
            ]
          },
          "metadata": {}
        }
      ]
    }
  ]
}